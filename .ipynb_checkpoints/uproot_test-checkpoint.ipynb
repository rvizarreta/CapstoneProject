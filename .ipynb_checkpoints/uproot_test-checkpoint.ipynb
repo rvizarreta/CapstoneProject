{
 "cells": [
  {
   "cell_type": "code",
   "execution_count": 2,
   "id": "10e9f1a0-99c8-436e-8947-24b73cea42de",
   "metadata": {},
   "outputs": [],
   "source": [
    "# IMPORTING UPROOT\n",
    "import uproot"
   ]
  },
  {
   "cell_type": "code",
   "execution_count": 3,
   "id": "59d8f55c-72fc-4134-9617-cec8bd02b586",
   "metadata": {},
   "outputs": [],
   "source": [
    "# OPEN ROOT FILE\n",
    "file = uproot.open(\"../ROOT FILES/SIM_minerva_00110000_Subruns_0001_MasterAnaDev_Ana_Tuple_v22r1p1.root\")"
   ]
  },
  {
   "cell_type": "code",
   "execution_count": 7,
   "id": "fb0a4680-b700-4e43-943d-8a4a3a1ef9cc",
   "metadata": {},
   "outputs": [
    {
     "data": {
      "text/plain": [
       "['Header;1', 'MasterAnaDev;1', 'Truth;1', 'Meta;1']"
      ]
     },
     "execution_count": 7,
     "metadata": {},
     "output_type": "execute_result"
    }
   ],
   "source": [
    "# WHAT'S INSIDE THIS FILE?\n",
    "# Just like any other kind of directory, you can list the contents (of the file). The name of each item in the file is called a “key”.\n",
    "file.keys()"
   ]
  },
  {
   "cell_type": "code",
   "execution_count": 8,
   "id": "686fd9b5-5dfd-4955-a709-4cba313e2f54",
   "metadata": {},
   "outputs": [
    {
     "data": {
      "text/plain": [
       "{'Header;1': 'TTree',\n",
       " 'MasterAnaDev;1': 'TTree',\n",
       " 'Truth;1': 'TTree',\n",
       " 'Meta;1': 'TTree'}"
      ]
     },
     "execution_count": 8,
     "metadata": {},
     "output_type": "execute_result"
    }
   ],
   "source": [
    "# We can see that there is one key: “Events”. This doesn’t tell us what kind of object it refers to, though. \n",
    "# ROOT files can contain many different types of objects, including subdirectories. \n",
    "# The following function provides a way to inspect the types of each item:\n",
    "file.classnames()"
   ]
  },
  {
   "cell_type": "code",
   "execution_count": 9,
   "id": "8d8678b0-2fbf-4d0b-9bb7-12605f1dc55a",
   "metadata": {},
   "outputs": [
    {
     "data": {
      "text/plain": [
       "<TTree 'Header' (57 branches) at 0x7fbf30661ca0>"
      ]
     },
     "execution_count": 9,
     "metadata": {},
     "output_type": "execute_result"
    }
   ],
   "source": [
    "# Now we want to actually access the object inside the file.\n",
    "header = file['Header;1']\n",
    "header"
   ]
  },
  {
   "cell_type": "markdown",
   "id": "74089422-7690-41bc-8b65-8cb667d4cdad",
   "metadata": {},
   "source": [
    "---\n",
    "### TREES\n",
    "---"
   ]
  },
  {
   "cell_type": "markdown",
   "id": "1abd9bba-c401-426e-8243-ac039421be5f",
   "metadata": {},
   "source": [
    "From https://masonproffitt.github.io/uproot-tutorial/aio.html"
   ]
  },
  {
   "cell_type": "markdown",
   "id": "06b4df60-b1d5-4e83-b4fe-e85b870b5c88",
   "metadata": {},
   "source": [
    "#### Trees in ROOT are basically just tables of information. Trees are composed of branches, which are the columns of the table. The rows usually represent events (individual bunch crossings)."
   ]
  },
  {
   "cell_type": "code",
   "execution_count": 10,
   "id": "4c879e7f-3ae3-4a71-b5f2-c65a05b7df07",
   "metadata": {
    "collapsed": true,
    "jupyter": {
     "outputs_hidden": true
    },
    "tags": []
   },
   "outputs": [
    {
     "data": {
      "text/plain": [
       "['eventID',\n",
       " 'truth_has_physics_event',\n",
       " 'truth_pass_MasterAnaDev',\n",
       " 'truth_is_fiducial',\n",
       " 'truth_reco_hasGoodObjects',\n",
       " 'truth_reco_isGoodVertex',\n",
       " 'truth_reco_isFidVol_smeared',\n",
       " 'truth_reco_has_muon',\n",
       " 'truth_reco_has_int_vtx',\n",
       " 'truth_',\n",
       " 'truth_N_K0',\n",
       " 'truth_N_chargedK',\n",
       " 'truth_N_lambda',\n",
       " 'truth_N_pi0',\n",
       " 'truth_N_pim',\n",
       " 'truth_N_pip',\n",
       " 'truth_N_sigma',\n",
       " 'truth_hadronReweightNPaths',\n",
       " 'truth_hadronReweightNPoints',\n",
       " 'truth_in_fiducial_area',\n",
       " 'truth_reco_has_muon_charge',\n",
       " 'truth_reco_has_single_proton',\n",
       " 'truth_reco_is_fiducial',\n",
       " 'truth_reco_is_minos_match',\n",
       " 'truth_reco_muon_is_minos_match_stub',\n",
       " 'truth_reco_muon_is_minos_match_track',\n",
       " 'truth_reco_pass_MasterAnaDev_precuts',\n",
       " 'truth_targetID',\n",
       " 'truth_targetZ',\n",
       " 'truth_target_code',\n",
       " 'truth_vtx_module',\n",
       " 'truth_vtx_plane',\n",
       " 'truth_',\n",
       " 'truth_muon_E',\n",
       " 'truth_muon_px',\n",
       " 'truth_muon_py',\n",
       " 'truth_muon_pz',\n",
       " 'truth_muon_theta',\n",
       " 'truth_target_dist_to_division',\n",
       " 'truth_target_zDist',\n",
       " 'truth__sz',\n",
       " 'truth_',\n",
       " 'truth_hadronReweightID_sz',\n",
       " 'truth_hadronReweightID',\n",
       " 'truth_hadronReweightIntCode_sz',\n",
       " 'truth_hadronReweightIntCode',\n",
       " 'truth_hadronReweightIntCodePerSegment_sz',\n",
       " 'truth_hadronReweightIntCodePerSegment',\n",
       " 'truth_hadronReweightNTrajPoints_sz',\n",
       " 'truth_hadronReweightNTrajPoints',\n",
       " 'truth_hadronReweightNTrajPointsSaved_sz',\n",
       " 'truth_hadronReweightNTrajPointsSaved',\n",
       " 'truth_hadronReweightNuke_sz',\n",
       " 'truth_hadronReweightNuke',\n",
       " 'truth_hadronReweightPDG_sz',\n",
       " 'truth_hadronReweightPDG',\n",
       " 'truth_hadronReweightParentID_sz',\n",
       " 'truth_hadronReweightParentID',\n",
       " 'truth_hadronReweightTrackID_sz',\n",
       " 'truth_hadronReweightTrackID',\n",
       " 'truth_hadronReweightTrajPointFlag_sz',\n",
       " 'truth_hadronReweightTrajPointFlag',\n",
       " 'truth_pi_charge',\n",
       " 'truth_',\n",
       " 'genie_wgt_n_shifts',\n",
       " 'truth_genie_wgt_AGKYxF1pi',\n",
       " 'truth_genie_wgt_AhtBY',\n",
       " 'truth_genie_wgt_BhtBY',\n",
       " 'truth_genie_wgt_CCQEPauliSupViaKF',\n",
       " 'truth_genie_wgt_CV1uBY',\n",
       " 'truth_genie_wgt_CV2uBY',\n",
       " 'truth_genie_wgt_EtaNCEL',\n",
       " 'truth_genie_wgt_FrAbs_N',\n",
       " 'truth_genie_wgt_FrAbs_pi',\n",
       " 'truth_genie_wgt_FrCEx_N',\n",
       " 'truth_genie_wgt_FrCEx_pi',\n",
       " 'truth_genie_wgt_FrElas_N',\n",
       " 'truth_genie_wgt_FrElas_pi',\n",
       " 'truth_genie_wgt_FrInel_N',\n",
       " 'truth_genie_wgt_FrInel_pi',\n",
       " 'truth_genie_wgt_FrPiProd_N',\n",
       " 'truth_genie_wgt_FrPiProd_pi',\n",
       " 'truth_genie_wgt_MFP_N',\n",
       " 'truth_genie_wgt_MFP_pi',\n",
       " 'truth_genie_wgt_MaCCQE',\n",
       " 'truth_genie_wgt_MaCCQEshape',\n",
       " 'truth_genie_wgt_MaNCEL',\n",
       " 'truth_genie_wgt_MaRES',\n",
       " 'truth_genie_wgt_MvRES',\n",
       " 'truth_genie_wgt_NormCCQE',\n",
       " 'truth_genie_wgt_NormCCRES',\n",
       " 'truth_genie_wgt_NormDISCC',\n",
       " 'truth_genie_wgt_NormNCRES',\n",
       " 'truth_genie_wgt_RDecBR1gamma',\n",
       " 'truth_genie_wgt_Rvn1pi',\n",
       " 'truth_genie_wgt_Rvn2pi',\n",
       " 'truth_genie_wgt_Rvp1pi',\n",
       " 'truth_genie_wgt_Rvp2pi',\n",
       " 'truth_genie_wgt_Theta_Delta2Npi',\n",
       " 'truth_genie_wgt_VecFFCCQEshape',\n",
       " 'truth_genie_wgt_shifts',\n",
       " 'truth_hadronReweightColumnarDensity_sz',\n",
       " 'truth_hadronReweightColumnarDensity',\n",
       " 'truth_hadronReweightFinalE_sz',\n",
       " 'truth_hadronReweightFinalE',\n",
       " 'truth_hadronReweightFinalSigmaE_sz',\n",
       " 'truth_hadronReweightFinalSigmaE',\n",
       " 'truth_hadronReweightInitialE_sz',\n",
       " 'truth_hadronReweightInitialE',\n",
       " 'truth_hadronReweightInitialSigmaE_sz',\n",
       " 'truth_hadronReweightInitialSigmaE',\n",
       " 'truth_hadronReweightPosX_sz',\n",
       " 'truth_hadronReweightPosX',\n",
       " 'truth_hadronReweightPosY_sz',\n",
       " 'truth_hadronReweightPosY',\n",
       " 'truth_hadronReweightPosZ_sz',\n",
       " 'truth_hadronReweightPosZ',\n",
       " 'truth_hadronReweightTimeDelta_sz',\n",
       " 'truth_hadronReweightTimeDelta',\n",
       " 'truth_pi_E',\n",
       " 'truth_pi_px',\n",
       " 'truth_pi_py',\n",
       " 'truth_pi_pz',\n",
       " 'truth_pi_theta_wrtbeam',\n",
       " 'mc_run',\n",
       " 'mc_subrun',\n",
       " 'mc_nInteractions',\n",
       " 'mc_MIState',\n",
       " 'mc_pot',\n",
       " 'mc_beamConfig',\n",
       " 'mc_processType',\n",
       " 'mc_nthEvtInSpill',\n",
       " 'mc_nthEvtInFile',\n",
       " 'mc_intType',\n",
       " 'mc_current',\n",
       " 'mc_charm',\n",
       " 'mc_weight',\n",
       " 'mc_XSec',\n",
       " 'mc_diffXSec',\n",
       " 'mc_incoming',\n",
       " 'mc_fluxDriverProb',\n",
       " 'mc_targetNucleus',\n",
       " 'mc_targetZ',\n",
       " 'mc_targetA',\n",
       " 'mc_targetNucleon',\n",
       " 'mc_struckQuark',\n",
       " 'mc_seaQuark',\n",
       " 'mc_resID',\n",
       " 'mc_primaryLepton',\n",
       " 'mc_incomingE',\n",
       " 'mc_Bjorkenx',\n",
       " 'mc_Bjorkeny',\n",
       " 'mc_Q2',\n",
       " 'mc_nuT',\n",
       " 'mc_w',\n",
       " 'mc_vtx',\n",
       " 'mc_incomingPartVec',\n",
       " 'mc_initNucVec',\n",
       " 'mc_primFSLepton',\n",
       " 'mc_nFSPart',\n",
       " 'mc_FSPartPx',\n",
       " 'mc_FSPartPy',\n",
       " 'mc_FSPartPz',\n",
       " 'mc_FSPartE',\n",
       " 'mc_FSPartPDG',\n",
       " 'mc_er_nPart',\n",
       " 'mc_er_ID',\n",
       " 'mc_er_status',\n",
       " 'mc_er_posInNucX',\n",
       " 'mc_er_posInNucY',\n",
       " 'mc_er_posInNucZ',\n",
       " 'mc_er_Px',\n",
       " 'mc_er_Py',\n",
       " 'mc_er_Pz',\n",
       " 'mc_er_E',\n",
       " 'mc_er_FD',\n",
       " 'mc_er_LD',\n",
       " 'mc_er_mother',\n",
       " 'mc_fr_nNuAncestorIDs',\n",
       " 'mc_fr_nuAncestorIDs',\n",
       " 'mc_fr_nuParentID',\n",
       " 'mc_fr_decMode',\n",
       " 'mc_fr_primProtonVtx',\n",
       " 'mc_fr_primProtonP',\n",
       " 'mc_fr_nuParentDecVtx',\n",
       " 'mc_fr_nuParentProdVtx',\n",
       " 'mc_fr_nuParentProdP',\n",
       " 'mc_cvweight_total',\n",
       " 'wgt',\n",
       " 'mc_cvweight_totalFlux',\n",
       " 'mc_cvweight_totalXsec',\n",
       " 'mc_ppfx1_cvweight',\n",
       " 'mc_hornCurrent_cvweight',\n",
       " 'mc_gen1_cvweight_total',\n",
       " 'gen1_wgt',\n",
       " 'mc_gen1_cvweight_totalFlux',\n",
       " 'mc_gen1_cvweight_NA49',\n",
       " 'mc_wgt_Flux_BeamFocus_sz',\n",
       " 'mc_wgt_Flux_BeamFocus',\n",
       " 'mc_wgt_gen1_Flux_Tertiary_sz',\n",
       " 'mc_wgt_gen1_Flux_Tertiary',\n",
       " 'mc_wgt_gen1_Flux_NA49_sz',\n",
       " 'mc_wgt_gen1_Flux_NA49',\n",
       " 'mc_wgt_Norm_sz',\n",
       " 'mc_wgt_Norm',\n",
       " 'mc_wgt_ppfx1_Total_sz',\n",
       " 'mc_wgt_ppfx1_Total',\n",
       " 'mc_vertex_batch',\n",
       " 'ev_run',\n",
       " 'ev_subrun',\n",
       " 'ev_detector',\n",
       " 'ev_triggerType',\n",
       " 'ev_gate',\n",
       " 'ev_global_gate',\n",
       " 'ev_gps_time_sec',\n",
       " 'ev_gps_time_usec',\n",
       " 'numi_pot',\n",
       " 'numi_horn_curr',\n",
       " 'numi_x_pos',\n",
       " 'numi_y_pos',\n",
       " 'numi_x_width',\n",
       " 'numi_y_width',\n",
       " 'numi_bpm1',\n",
       " 'numi_bpm2',\n",
       " 'numi_bpm3',\n",
       " 'numi_bpm4',\n",
       " 'numi_bpm5',\n",
       " 'numi_bpm6',\n",
       " 'numi_tor101',\n",
       " 'numi_tr101d',\n",
       " 'numi_tortgt',\n",
       " 'numi_trtgtd',\n",
       " 'batch_structure',\n",
       " 'numi_minos_time_sec',\n",
       " 'numi_minos_time_nsec',\n",
       " 'numi_database_sec',\n",
       " 'numi_database_nsec',\n",
       " 'numi_is_good_beam_spill',\n",
       " 'numi_is_bad_pot_data_spill',\n",
       " 'numi_is_no_beam_spill',\n",
       " 'numi_is_bad_data_spill',\n",
       " 'numi_is_bad_profile_x_width_data',\n",
       " 'numi_is_bad_profile_y_width_data',\n",
       " 'numi_is_bad_x_position_data',\n",
       " 'numi_is_bad_y_position_data',\n",
       " 'numi_is_bad_horn_curr_data',\n",
       " 'numi_is_bad_nearest_time_spill',\n",
       " 'numi_is_bad_beam_spill',\n",
       " 'numi_is_bad_pot_spill',\n",
       " 'numi_is_bad_x_pos',\n",
       " 'numi_is_bad_y_pos',\n",
       " 'numi_is_bad_beam_size',\n",
       " 'numi_is_bad_profile_width_x',\n",
       " 'numi_is_bad_profile_width_y',\n",
       " 'numi_is_bad_horn_curr',\n",
       " 'numi_is_target_out_spill',\n",
       " 'numi_is_bad_beam_type_spill',\n",
       " 'numi_is_bad_beam_frac_on_tgt_spill',\n",
       " 'numi_is_good_position',\n",
       " 'numi_is_good_width',\n",
       " 'numi_is_good_toroids',\n",
       " 'numi_is_good_delta_t',\n",
       " 'numi_is_good_horn',\n",
       " 'numi_time_to_nearest']"
      ]
     },
     "execution_count": 10,
     "metadata": {},
     "output_type": "execute_result"
    }
   ],
   "source": [
    "# The output is a list of the branch names.\n",
    "tree = file['Truth;1']\n",
    "tree.keys()"
   ]
  },
  {
   "cell_type": "code",
   "execution_count": 11,
   "id": "5f31ddf2-247c-4230-8f54-0d6718d72412",
   "metadata": {},
   "outputs": [
    {
     "data": {
      "text/plain": [
       "<Array [{eventID: 1.1e+14, ... ] type='2911 * {\"eventID\": float64, \"truth_has_ph...'>"
      ]
     },
     "execution_count": 11,
     "metadata": {},
     "output_type": "execute_result"
    }
   ],
   "source": [
    "# How do we get the actual data from the table? There are several ways with uproot, but the simplest is with the arrays() function:\n",
    "tree.arrays()"
   ]
  },
  {
   "cell_type": "code",
   "execution_count": 12,
   "id": "785e3814-3ab3-4d31-9d22-f130e5e0209c",
   "metadata": {},
   "outputs": [
    {
     "data": {
      "text/plain": [
       "<Array [1, 1, 25, 1, 2, 12, ... 6, 2, 10, 1, 9] type='2911 * int32'>"
      ]
     },
     "execution_count": 12,
     "metadata": {},
     "output_type": "execute_result"
    }
   ],
   "source": [
    "branch = tree.arrays()['truth_hadronReweightNPaths']\n",
    "branch"
   ]
  },
  {
   "cell_type": "code",
   "execution_count": 13,
   "id": "c9ab0506-28d1-4ee4-b2f4-f2c0da43f74a",
   "metadata": {},
   "outputs": [
    {
     "data": {
      "text/plain": [
       "awkward.highlevel.Array"
      ]
     },
     "execution_count": 13,
     "metadata": {},
     "output_type": "execute_result"
    }
   ],
   "source": [
    "type(branch)"
   ]
  },
  {
   "cell_type": "code",
   "execution_count": 14,
   "id": "a57555db-be0f-4a33-a021-c6078004a220",
   "metadata": {},
   "outputs": [
    {
     "data": {
      "text/plain": [
       "array([ 1,  1, 25, ..., 10,  1,  9], dtype=int32)"
      ]
     },
     "execution_count": 14,
     "metadata": {},
     "output_type": "execute_result"
    }
   ],
   "source": [
    "# Making the Akward Array a Numpy array\n",
    "tree.arrays()['truth_hadronReweightNPaths'].to_numpy()"
   ]
  },
  {
   "cell_type": "code",
   "execution_count": 15,
   "id": "06f1f8c3-1c93-4495-a78a-dc41a3228df9",
   "metadata": {},
   "outputs": [
    {
     "data": {
      "text/html": [
       "<div>\n",
       "<style scoped>\n",
       "    .dataframe tbody tr th:only-of-type {\n",
       "        vertical-align: middle;\n",
       "    }\n",
       "\n",
       "    .dataframe tbody tr th {\n",
       "        vertical-align: top;\n",
       "    }\n",
       "\n",
       "    .dataframe thead th {\n",
       "        text-align: right;\n",
       "    }\n",
       "</style>\n",
       "<table border=\"1\" class=\"dataframe\">\n",
       "  <thead>\n",
       "    <tr style=\"text-align: right;\">\n",
       "      <th></th>\n",
       "      <th>truth_hadronReweightNPaths</th>\n",
       "    </tr>\n",
       "  </thead>\n",
       "  <tbody>\n",
       "    <tr>\n",
       "      <th>0</th>\n",
       "      <td>1</td>\n",
       "    </tr>\n",
       "    <tr>\n",
       "      <th>1</th>\n",
       "      <td>1</td>\n",
       "    </tr>\n",
       "    <tr>\n",
       "      <th>2</th>\n",
       "      <td>25</td>\n",
       "    </tr>\n",
       "    <tr>\n",
       "      <th>3</th>\n",
       "      <td>1</td>\n",
       "    </tr>\n",
       "    <tr>\n",
       "      <th>4</th>\n",
       "      <td>2</td>\n",
       "    </tr>\n",
       "    <tr>\n",
       "      <th>...</th>\n",
       "      <td>...</td>\n",
       "    </tr>\n",
       "    <tr>\n",
       "      <th>2906</th>\n",
       "      <td>6</td>\n",
       "    </tr>\n",
       "    <tr>\n",
       "      <th>2907</th>\n",
       "      <td>2</td>\n",
       "    </tr>\n",
       "    <tr>\n",
       "      <th>2908</th>\n",
       "      <td>10</td>\n",
       "    </tr>\n",
       "    <tr>\n",
       "      <th>2909</th>\n",
       "      <td>1</td>\n",
       "    </tr>\n",
       "    <tr>\n",
       "      <th>2910</th>\n",
       "      <td>9</td>\n",
       "    </tr>\n",
       "  </tbody>\n",
       "</table>\n",
       "<p>2911 rows × 1 columns</p>\n",
       "</div>"
      ],
      "text/plain": [
       "      truth_hadronReweightNPaths\n",
       "0                              1\n",
       "1                              1\n",
       "2                             25\n",
       "3                              1\n",
       "4                              2\n",
       "...                          ...\n",
       "2906                           6\n",
       "2907                           2\n",
       "2908                          10\n",
       "2909                           1\n",
       "2910                           9\n",
       "\n",
       "[2911 rows x 1 columns]"
      ]
     },
     "execution_count": 15,
     "metadata": {},
     "output_type": "execute_result"
    }
   ],
   "source": [
    "# Making it a pandas dataframe\n",
    "import pandas as pd\n",
    "df = pd.DataFrame(data=tree.arrays()['truth_hadronReweightNPaths'].to_numpy(), columns=['truth_hadronReweightNPaths'])\n",
    "df"
   ]
  },
  {
   "cell_type": "code",
   "execution_count": 16,
   "id": "baaf8e90-f818-4bc9-ae51-f501d5211709",
   "metadata": {},
   "outputs": [],
   "source": [
    "import matplotlib.pyplot as plt\n",
    "plt.style.reload_library()\n",
    "plt.style.use(['science', 'grid'])"
   ]
  },
  {
   "cell_type": "code",
   "execution_count": 17,
   "id": "31e97e6d-2388-4105-b66f-8a32b869340c",
   "metadata": {},
   "outputs": [],
   "source": [
    "ENTRIES = len(df.index)\n",
    "MEAN = df.mean()[0]\n",
    "STD = df.std()[0]\n",
    "label = r'$\\textbf{Entries:}$ ' + str(\"{:}\".format(ENTRIES)) + '\\n' + r'$\\textbf{Mean:}$ ' + str(\"{:.4}\".format(MEAN)) + '\\n' +  r'$\\textbf{Std Dev}$: ' + str(\"{:.3}\".format(STD))"
   ]
  },
  {
   "cell_type": "code",
   "execution_count": 18,
   "id": "99c38e20-766b-45c8-a1db-41b768f2e35f",
   "metadata": {},
   "outputs": [
    {
     "data": {
      "image/png": "[encoded data removed]",
      "text/plain": [
       "<Figure size 640x640 with 1 Axes>"
      ]
     },
     "metadata": {
      "needs_background": "light"
     },
     "output_type": "display_data"
    }
   ],
   "source": [
    "fig = plt.figure(figsize=(8, 8), dpi=80)\n",
    "ax = fig.add_subplot(111)\n",
    "plt.xticks(fontsize=25)\n",
    "plt.yticks(fontsize=25)\n",
    "hist = df.hist(ax=ax,bins=90, facecolor = 'g', edgecolor= \"black\", linewidth=1 , label=label)\n",
    "title = r'$truth_hadronReweightNPaths$'\n",
    "title = title.replace('_', '\\_')\n",
    "plt.ylabel(r'$\\textit{'+ 'Entries' + '}$', fontsize=30) \n",
    "plt.title(title, fontsize=30)\n",
    "plt.legend(prop={'size': 16}, loc=1) \n",
    "plt.show()"
   ]
  },
  {
   "cell_type": "code",
   "execution_count": null,
   "id": "76436ecb-632b-4995-afe3-3ac86ffbcad5",
   "metadata": {},
   "outputs": [],
   "source": []
  }
 ],
 "metadata": {
  "kernelspec": {
   "display_name": "Python 3",
   "language": "python",
   "name": "python3"
  },
  "language_info": {
   "codemirror_mode": {
    "name": "ipython",
    "version": 3
   },
   "file_extension": ".py",
   "mimetype": "text/x-python",
   "name": "python",
   "nbconvert_exporter": "python",
   "pygments_lexer": "ipython3",
   "version": "3.8.8"
  }
 },
 "nbformat": 4,
 "nbformat_minor": 5
}
