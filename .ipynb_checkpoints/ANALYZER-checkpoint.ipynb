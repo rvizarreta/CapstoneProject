{
 "cells": [
  {
   "cell_type": "code",
   "execution_count": 1,
   "id": "1aac62d8-1e18-4a9b-ab46-0a994a763f4a",
   "metadata": {},
   "outputs": [],
   "source": [
    "# IMPORTING UPROOT\n",
    "import uproot\n",
    "\n",
    "# IMPORTING SUPPORT PACKAGES\n",
    "import pandas as pd\n",
    "\n",
    "# IMPORTING PLOTTIN LIBRARIES\n",
    "import matplotlib.pyplot as plt\n",
    "plt.style.reload_library()\n",
    "plt.style.use(['science', 'grid'])\n",
    "\n",
    "# IMPORTING ADDITIONAL PACKAGES\n",
    "from ipywidgets import interact, widgets\n",
    "import sys\n",
    "import glob, re"
   ]
  },
  {
   "cell_type": "code",
   "execution_count": 2,
   "id": "1fc67e4f-7479-46b1-86c6-be15c92450bf",
   "metadata": {
    "tags": []
   },
   "outputs": [],
   "source": [
    "filenames = sorted(glob.glob(\"../ROOT FILES/SIM*\"))\n",
    "filenames.insert(0, 'Select ROOT File')"
   ]
  },
  {
   "cell_type": "code",
   "execution_count": 3,
   "id": "b23fba91-ba10-4123-b3c5-f3837452bc92",
   "metadata": {},
   "outputs": [
    {
     "data": {
      "application/vnd.jupyter.widget-view+json": {
       "model_id": "476cf9359b464445bfdaa4fd8a5f8d8b",
       "version_major": 2,
       "version_minor": 0
      },
      "text/plain": [
       "Dropdown(description='ROOT File:', layout=Layout(width='max-content'), options=('Select ROOT File', '../ROOT F…"
      ]
     },
     "metadata": {},
     "output_type": "display_data"
    }
   ],
   "source": [
    "drop_down1 = widgets.Dropdown(options=filenames,\n",
    "                                description='ROOT File:',\n",
    "                                disabled=False,\n",
    "                                layout={'width': 'max-content'})\n",
    "drop_down1"
   ]
  },
  {
   "cell_type": "markdown",
   "id": "027e4a97-05a2-42c8-afd0-40bb0325629a",
   "metadata": {},
   "source": [
    "***\n",
    "#### <font color=orange>WHAT IS INSIDE THIS FILE? TREES!</font>\n",
    "***"
   ]
  },
  {
   "cell_type": "code",
   "execution_count": 5,
   "id": "7b59df98-fd9e-45bd-ba1f-b01148dd5bea",
   "metadata": {},
   "outputs": [
    {
     "data": {
      "application/vnd.jupyter.widget-view+json": {
       "model_id": "d7fa81e72edc40febda6dbe87fed44f2",
       "version_major": 2,
       "version_minor": 0
      },
      "text/plain": [
       "Dropdown(description='🌴 Tree:', layout=Layout(width='max-content'), options=('Select Tree', 'Header;1', 'Maste…"
      ]
     },
     "metadata": {},
     "output_type": "display_data"
    }
   ],
   "source": [
    "file = uproot.open(drop_down1.value)\n",
    "trees = file.keys()\n",
    "trees.insert(0, 'Select Tree')\n",
    "drop_down2 = widgets.Dropdown(options=trees,\n",
    "                                description='🌴 Tree:',\n",
    "                                disabled=False,\n",
    "                                layout={'width': 'max-content'})\n",
    "drop_down2"
   ]
  },
  {
   "cell_type": "code",
   "execution_count": 108,
   "id": "3d47afb9-60e6-4d1d-8454-04f5fb6ad98b",
   "metadata": {},
   "outputs": [
    {
     "data": {
      "application/vnd.jupyter.widget-view+json": {
       "model_id": "084c8492cc894d2a8afa9c8179a4a205",
       "version_major": 2,
       "version_minor": 0
      },
      "text/plain": [
       "Text(value='', description='🔎 Search:', placeholder='Type something')"
      ]
     },
     "metadata": {},
     "output_type": "display_data"
    }
   ],
   "source": [
    "# Search inside branches list (OPTIONAL)\n",
    "search1 = widgets.Text(placeholder='Type something',\n",
    "                    description='🔎 Search:',\n",
    "                    disabled=False)\n",
    "search1"
   ]
  },
  {
   "cell_type": "code",
   "execution_count": 118,
   "id": "08d6dad1-03a7-4272-b093-2ade05effce0",
   "metadata": {
    "tags": []
   },
   "outputs": [
    {
     "data": {
      "application/vnd.jupyter.widget-view+json": {
       "model_id": "06e7176d6401457cb2f1284b85463da4",
       "version_major": 2,
       "version_minor": 0
      },
      "text/plain": [
       "Dropdown(description='🍂 Branch:', layout=Layout(width='max-content'), options=('Select Branch', 'eventID', 'tr…"
      ]
     },
     "metadata": {},
     "output_type": "display_data"
    }
   ],
   "source": [
    "# Let's see inside a tree\n",
    "tree = file[drop_down2.value]\n",
    "branches = tree.keys() \n",
    "branches.insert(0, 'Select Branch')\n",
    "branch_list = []\n",
    "next((branch_list.append(item) for item in branches if search1.value in item), None)\n",
    "options = ['No results'] if len(branch_list) == 0 else (branches if (search1.value == '') else branch_list)\n",
    "drop_down3 = widgets.Dropdown(options=options,\n",
    "                                description='🍂 Branch:',\n",
    "                                disabled=False,\n",
    "                                layout={'width': 'max-content'})\n",
    "drop_down3"
   ]
  },
  {
   "cell_type": "markdown",
   "id": "c82f12d6-c860-4c24-94cc-e6f6461ed5db",
   "metadata": {},
   "source": [
    "***\n",
    "#### <font color=orange>START ANALYSIS</font>\n",
    "***"
   ]
  },
  {
   "cell_type": "code",
   "execution_count": 10,
   "id": "d96ab9ee-7b75-48b4-ad6b-3fe9492f1fab",
   "metadata": {},
   "outputs": [
    {
     "data": {
      "text/html": [
       "<div>\n",
       "<style scoped>\n",
       "    .dataframe tbody tr th:only-of-type {\n",
       "        vertical-align: middle;\n",
       "    }\n",
       "\n",
       "    .dataframe tbody tr th {\n",
       "        vertical-align: top;\n",
       "    }\n",
       "\n",
       "    .dataframe thead th {\n",
       "        text-align: right;\n",
       "    }\n",
       "</style>\n",
       "<table border=\"1\" class=\"dataframe\">\n",
       "  <thead>\n",
       "    <tr style=\"text-align: right;\">\n",
       "      <th></th>\n",
       "      <th>truth_hadronReweightNPaths</th>\n",
       "    </tr>\n",
       "  </thead>\n",
       "  <tbody>\n",
       "    <tr>\n",
       "      <th>0</th>\n",
       "      <td>1</td>\n",
       "    </tr>\n",
       "    <tr>\n",
       "      <th>1</th>\n",
       "      <td>1</td>\n",
       "    </tr>\n",
       "    <tr>\n",
       "      <th>2</th>\n",
       "      <td>25</td>\n",
       "    </tr>\n",
       "    <tr>\n",
       "      <th>3</th>\n",
       "      <td>1</td>\n",
       "    </tr>\n",
       "    <tr>\n",
       "      <th>4</th>\n",
       "      <td>2</td>\n",
       "    </tr>\n",
       "    <tr>\n",
       "      <th>...</th>\n",
       "      <td>...</td>\n",
       "    </tr>\n",
       "    <tr>\n",
       "      <th>2906</th>\n",
       "      <td>6</td>\n",
       "    </tr>\n",
       "    <tr>\n",
       "      <th>2907</th>\n",
       "      <td>2</td>\n",
       "    </tr>\n",
       "    <tr>\n",
       "      <th>2908</th>\n",
       "      <td>10</td>\n",
       "    </tr>\n",
       "    <tr>\n",
       "      <th>2909</th>\n",
       "      <td>1</td>\n",
       "    </tr>\n",
       "    <tr>\n",
       "      <th>2910</th>\n",
       "      <td>9</td>\n",
       "    </tr>\n",
       "  </tbody>\n",
       "</table>\n",
       "<p>2911 rows × 1 columns</p>\n",
       "</div>"
      ],
      "text/plain": [
       "      truth_hadronReweightNPaths\n",
       "0                              1\n",
       "1                              1\n",
       "2                             25\n",
       "3                              1\n",
       "4                              2\n",
       "...                          ...\n",
       "2906                           6\n",
       "2907                           2\n",
       "2908                          10\n",
       "2909                           1\n",
       "2910                           9\n",
       "\n",
       "[2911 rows x 1 columns]"
      ]
     },
     "execution_count": 10,
     "metadata": {},
     "output_type": "execute_result"
    }
   ],
   "source": [
    "# Making the Akward Array a Numpy array\n",
    "branch = drop_down3.value\n",
    "df = pd.DataFrame(data=tree.arrays()[branch].to_numpy(), columns=[branch])\n",
    "df"
   ]
  },
  {
   "cell_type": "code",
   "execution_count": 11,
   "id": "e1a506af-8667-49f9-abc4-a22e7bd77fff",
   "metadata": {},
   "outputs": [],
   "source": [
    "# Making Histogram Legend\n",
    "ENTRIES = len(df.index)\n",
    "MEAN = df.mean()[0]\n",
    "STD = df.std()[0]\n",
    "label = r'$\\textbf{Entries:}$ ' + str(\"{:}\".format(ENTRIES)) + '\\n' + r'$\\textbf{Mean:}$ ' + str(\"{:.4}\".format(MEAN)) + '\\n' +  r'$\\textbf{Std Dev}$: ' + str(\"{:.3}\".format(STD))"
   ]
  },
  {
   "cell_type": "code",
   "execution_count": 13,
   "id": "5f4a6a1b-b6f4-466d-9ec2-b15c0c77bc27",
   "metadata": {},
   "outputs": [
    {
     "data": {
      "image/png": "[encoded data removed]",
      "text/plain": [
       "<Figure size 640x640 with 1 Axes>"
      ]
     },
     "metadata": {
      "needs_background": "light"
     },
     "output_type": "display_data"
    }
   ],
   "source": [
    "# Plot Histogram!\n",
    "fig = plt.figure(figsize=(8, 8), dpi=80)\n",
    "ax = fig.add_subplot(111)\n",
    "plt.xticks(fontsize=25)\n",
    "plt.yticks(fontsize=25)\n",
    "hist = df.hist(ax=ax,bins=90, facecolor = 'g', edgecolor= \"black\", linewidth=1 , label=label)\n",
    "title = branch\n",
    "title = title.replace('_', '\\_')\n",
    "plt.ylabel(r'$\\textit{'+ 'Entries' + '}$', fontsize=30) \n",
    "plt.title(title, fontsize=30)\n",
    "plt.legend(prop={'size': 16}, loc=1) \n",
    "plt.show()"
   ]
  },
  {
   "cell_type": "code",
   "execution_count": null,
   "id": "5ed82046-f546-4aa4-a656-820aa5ac789e",
   "metadata": {},
   "outputs": [],
   "source": []
  }
 ],
 "metadata": {
  "kernelspec": {
   "display_name": "Python 3",
   "language": "python",
   "name": "python3"
  },
  "language_info": {
   "codemirror_mode": {
    "name": "ipython",
    "version": 3
   },
   "file_extension": ".py",
   "mimetype": "text/x-python",
   "name": "python",
   "nbconvert_exporter": "python",
   "pygments_lexer": "ipython3",
   "version": "3.8.8"
  }
 },
 "nbformat": 4,
 "nbformat_minor": 5
}
