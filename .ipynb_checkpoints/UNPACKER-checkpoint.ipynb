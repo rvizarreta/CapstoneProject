{
 "cells": [
  {
   "cell_type": "code",
   "execution_count": 1,
   "id": "c27ad599-87d0-4c92-bacb-6aa7eb14bbac",
   "metadata": {},
   "outputs": [],
   "source": [
    "# IMPORTING UPROOT\n",
    "import uproot\n",
    "\n",
    "# IMPORTING SUPPORT PACKAGES\n",
    "import pandas as pd\n",
    "import numpy as np\n",
    "from joblib import Parallel, delayed\n",
    "\n",
    "# IMPORTING ADDITIONAL PACKAGES\n",
    "from ipywidgets import interact, widgets\n",
    "import sys\n",
    "import glob, re\n",
    "import os\n",
    "import time\n",
    "\n",
    "# IMPORTING SUPPORT METHODS\n",
    "import PLOTTER\n",
    "import importlib # Useful to reload packages"
   ]
  },
  {
   "cell_type": "code",
   "execution_count": 2,
   "id": "41d57837-eb55-48b8-83fa-e386731cf62b",
   "metadata": {},
   "outputs": [
    {
     "data": {
      "text/plain": [
       "['Header;1', 'MasterAnaDev;1', 'Truth;1', 'Meta;1']"
      ]
     },
     "execution_count": 2,
     "metadata": {},
     "output_type": "execute_result"
    }
   ],
   "source": [
    "# Extracting tree names for a root file\n",
    "file = uproot.open('../ROOT FILES/SIM_minerva_00110000_Subruns_0001_MasterAnaDev_Ana_Tuple_v22r1p1.root')\n",
    "trees = file.keys()\n",
    "trees"
   ]
  },
  {
   "cell_type": "code",
   "execution_count": 3,
   "id": "470616f8-5142-441b-b92e-dab30456de2a",
   "metadata": {},
   "outputs": [],
   "source": [
    "# Generating list of all ROOT files\n",
    "filenames = sorted(glob.glob(\"../ROOT FILES/SIM*\"))"
   ]
  },
  {
   "cell_type": "code",
   "execution_count": 4,
   "id": "d6215c4d-e87c-4007-80d6-b703b510a6e3",
   "metadata": {
    "tags": []
   },
   "outputs": [],
   "source": [
    "# Generating required directories\n",
    "mother_directory = 'UNPACKED_ROOT'\n",
    "os.mkdir(mother_directory) # Creating new directory\n",
    "for tree in trees:\n",
    "    os.mkdir(mother_directory + '/' + tree)"
   ]
  },
  {
   "cell_type": "code",
   "execution_count": 5,
   "id": "8e5bea90-af7a-4afb-b375-8268e8aac54e",
   "metadata": {},
   "outputs": [
    {
     "data": {
      "application/vnd.jupyter.widget-view+json": {
       "model_id": "1001bdfba1e943d283b43ffae1e464b4",
       "version_major": 2,
       "version_minor": 0
      },
      "text/plain": [
       "Dropdown(description='🌴 Tree:', layout=Layout(width='max-content'), options=('Select Tree', 'Header;1', 'Maste…"
      ]
     },
     "metadata": {},
     "output_type": "display_data"
    }
   ],
   "source": [
    "trees = file.keys()\n",
    "trees.insert(0, 'Select Tree')\n",
    "drop_down1 = widgets.Dropdown(options=trees,\n",
    "                                description='🌴 Tree:',\n",
    "                                disabled=False,\n",
    "                                layout={'width': 'max-content'})\n",
    "drop_down1"
   ]
  },
  {
   "cell_type": "code",
   "execution_count": 6,
   "id": "98a497a8-0506-438c-a1a2-0475c404b00e",
   "metadata": {},
   "outputs": [
    {
     "data": {
      "application/vnd.jupyter.widget-view+json": {
       "model_id": "f13089c56d5a43c8ad9d43c837296b42",
       "version_major": 2,
       "version_minor": 0
      },
      "text/plain": [
       "Text(value='', description='🔎 Search:', placeholder='Type something')"
      ]
     },
     "metadata": {},
     "output_type": "display_data"
    }
   ],
   "source": [
    "# Search inside branches list (OPTIONAL)\n",
    "search1 = widgets.Text(placeholder='Type something',\n",
    "                    description='🔎 Search:',\n",
    "                    disabled=False)\n",
    "search1"
   ]
  },
  {
   "cell_type": "code",
   "execution_count": 7,
   "id": "42e765b4-6b6e-4e6c-ac98-f8de1b34ddf2",
   "metadata": {},
   "outputs": [
    {
     "data": {
      "application/vnd.jupyter.widget-view+json": {
       "model_id": "6b1005f8be32492a828a14ecc06f342c",
       "version_major": 2,
       "version_minor": 0
      },
      "text/plain": [
       "Dropdown(description='🍂 Branch:', layout=Layout(width='max-content'), options=('mc_Q2',), value='mc_Q2')"
      ]
     },
     "metadata": {},
     "output_type": "display_data"
    }
   ],
   "source": [
    "# Let's see inside a tree\n",
    "tree = file[drop_down1.value]\n",
    "branches = tree.keys() \n",
    "branches.insert(0, 'Select Branch')\n",
    "branch_list = []\n",
    "#next((branch_list.append(item) for item in branches if search1.value in item), None)\n",
    "[branch_list.append(item) for item in branches if item.count(search1.value) != 0]\n",
    "options = ['No results'] if len(branch_list) == 0 else (branches if (search1.value == '') else branch_list)\n",
    "drop_down2 = widgets.Dropdown(options=options,\n",
    "                                description='🍂 Branch:',\n",
    "                                disabled=False,\n",
    "                                layout={'width': 'max-content'})\n",
    "drop_down2"
   ]
  },
  {
   "cell_type": "code",
   "execution_count": 8,
   "id": "47da1861-829c-4a76-b208-6bc2908b0d48",
   "metadata": {
    "tags": []
   },
   "outputs": [],
   "source": [
    "# Creating branch directory (if it doesn't exist)\n",
    "branch = drop_down2.value\n",
    "tree_name = drop_down1.value\n",
    "try:\n",
    "    os.mkdir(mother_directory + '/' + tree_name + '/' + branch)\n",
    "except FileExistsError:\n",
    "    pass\n",
    "\n",
    "# Defining a method that outputs the .txt file for an specified root file\n",
    "def exportTXT(filename):\n",
    "    file1 = uproot.open(filename)\n",
    "    tree = file1[tree_name]\n",
    "    new_name = filename.split(\"FILES/\")[1]\n",
    "    file2 = mother_directory + '/' + tree_name + '/' + branch + '/' + new_name + '.txt'\n",
    "    print(file2)\n",
    "    data = tree.arrays()[branch].to_numpy()\n",
    "    np.savetxt(file2, data, delimiter=',')"
   ]
  },
  {
   "cell_type": "code",
   "execution_count": 9,
   "id": "fe6829e4-1e4f-4cb7-b720-2cbfe0ab9404",
   "metadata": {},
   "outputs": [
    {
     "name": "stdout",
     "output_type": "stream",
     "text": [
      "135.66677713394165\n"
     ]
    }
   ],
   "source": [
    "# Exporing each root file using parallel programming\n",
    "start = time.time()\n",
    "export = Parallel(n_jobs=-2)(delayed(exportTXT)(filename) for filename in filenames)\n",
    "end = time.time()\n",
    "print((end - start)/60, 'min')"
   ]
  },
  {
   "cell_type": "markdown",
   "id": "e797c4ad-6f44-4135-bbd2-12ab848b0f31",
   "metadata": {},
   "source": [
    "***\n",
    "#### <font color=orange>UNUSED CODE</font>\n",
    "***"
   ]
  },
  {
   "cell_type": "code",
   "execution_count": 30,
   "id": "65a2546e-c3ee-456b-b09e-eedd6fed2b92",
   "metadata": {
    "collapsed": true,
    "jupyter": {
     "outputs_hidden": true
    },
    "tags": []
   },
   "outputs": [
    {
     "ename": "KeyboardInterrupt",
     "evalue": "",
     "output_type": "error",
     "traceback": [
      "\u001b[0;31m---------------------------------------------------------------------------\u001b[0m",
      "\u001b[0;31mKeyboardInterrupt\u001b[0m                         Traceback (most recent call last)",
      "\u001b[0;32m<ipython-input-30-3f1ada898b92>\u001b[0m in \u001b[0;36m<module>\u001b[0;34m\u001b[0m\n\u001b[1;32m     11\u001b[0m                 \u001b[0;32mpass\u001b[0m\u001b[0;34m\u001b[0m\u001b[0;34m\u001b[0m\u001b[0m\n\u001b[1;32m     12\u001b[0m             \u001b[0mfile2\u001b[0m \u001b[0;34m=\u001b[0m \u001b[0mmother_directory\u001b[0m \u001b[0;34m+\u001b[0m \u001b[0;34m'/'\u001b[0m \u001b[0;34m+\u001b[0m \u001b[0melm\u001b[0m \u001b[0;34m+\u001b[0m \u001b[0;34m'/'\u001b[0m \u001b[0;34m+\u001b[0m \u001b[0mbranch\u001b[0m \u001b[0;34m+\u001b[0m \u001b[0;34m'/MasterAnaDev_Ana_Tuple'\u001b[0m \u001b[0;34m+\u001b[0m \u001b[0mstr\u001b[0m\u001b[0;34m(\u001b[0m\u001b[0mi\u001b[0m\u001b[0;34m)\u001b[0m \u001b[0;34m+\u001b[0m \u001b[0;34m'.txt'\u001b[0m\u001b[0;34m\u001b[0m\u001b[0;34m\u001b[0m\u001b[0m\n\u001b[0;32m---> 13\u001b[0;31m             \u001b[0mdata\u001b[0m \u001b[0;34m=\u001b[0m \u001b[0mtree\u001b[0m\u001b[0;34m.\u001b[0m\u001b[0marrays\u001b[0m\u001b[0;34m(\u001b[0m\u001b[0;34m)\u001b[0m\u001b[0;34m[\u001b[0m\u001b[0mbranch\u001b[0m\u001b[0;34m]\u001b[0m\u001b[0;34m.\u001b[0m\u001b[0mto_numpy\u001b[0m\u001b[0;34m(\u001b[0m\u001b[0;34m)\u001b[0m\u001b[0;34m\u001b[0m\u001b[0;34m\u001b[0m\u001b[0m\n\u001b[0m\u001b[1;32m     14\u001b[0m             \u001b[0mnp\u001b[0m\u001b[0;34m.\u001b[0m\u001b[0msavetxt\u001b[0m\u001b[0;34m(\u001b[0m\u001b[0mfile2\u001b[0m\u001b[0;34m,\u001b[0m \u001b[0mdata\u001b[0m\u001b[0;34m,\u001b[0m \u001b[0mdelimiter\u001b[0m\u001b[0;34m=\u001b[0m\u001b[0;34m','\u001b[0m\u001b[0;34m)\u001b[0m\u001b[0;34m\u001b[0m\u001b[0;34m\u001b[0m\u001b[0m\n\u001b[1;32m     15\u001b[0m     \u001b[0mi\u001b[0m \u001b[0;34m+=\u001b[0m \u001b[0;36m1\u001b[0m\u001b[0;34m\u001b[0m\u001b[0;34m\u001b[0m\u001b[0m\n",
      "\u001b[0;32m/opt/anaconda3/lib/python3.8/site-packages/uproot/behaviors/TBranch.py\u001b[0m in \u001b[0;36marrays\u001b[0;34m(self, expressions, cut, filter_name, filter_typename, filter_branch, aliases, language, entry_start, entry_stop, decompression_executor, interpretation_executor, array_cache, library, how)\u001b[0m\n\u001b[1;32m   1109\u001b[0m \u001b[0;34m\u001b[0m\u001b[0m\n\u001b[1;32m   1110\u001b[0m         \u001b[0maliases\u001b[0m \u001b[0;34m=\u001b[0m \u001b[0m_regularize_aliases\u001b[0m\u001b[0;34m(\u001b[0m\u001b[0mself\u001b[0m\u001b[0;34m,\u001b[0m \u001b[0maliases\u001b[0m\u001b[0;34m)\u001b[0m\u001b[0;34m\u001b[0m\u001b[0;34m\u001b[0m\u001b[0m\n\u001b[0;32m-> 1111\u001b[0;31m         arrays, expression_context, branchid_interpretation = _regularize_expressions(\n\u001b[0m\u001b[1;32m   1112\u001b[0m             \u001b[0mself\u001b[0m\u001b[0;34m,\u001b[0m\u001b[0;34m\u001b[0m\u001b[0;34m\u001b[0m\u001b[0m\n\u001b[1;32m   1113\u001b[0m             \u001b[0mexpressions\u001b[0m\u001b[0;34m,\u001b[0m\u001b[0;34m\u001b[0m\u001b[0;34m\u001b[0m\u001b[0m\n",
      "\u001b[0;32m/opt/anaconda3/lib/python3.8/site-packages/uproot/behaviors/TBranch.py\u001b[0m in \u001b[0;36m_regularize_expressions\u001b[0;34m(hasbranches, expressions, cut, filter_name, filter_typename, filter_branch, keys, aliases, language, get_from_cache)\u001b[0m\n\u001b[1;32m   3275\u001b[0m                 ),\n\u001b[1;32m   3276\u001b[0m             ):\n\u001b[0;32m-> 3277\u001b[0;31m                 _regularize_expression(\n\u001b[0m\u001b[1;32m   3278\u001b[0m                     \u001b[0mhasbranches\u001b[0m\u001b[0;34m,\u001b[0m\u001b[0;34m\u001b[0m\u001b[0;34m\u001b[0m\u001b[0m\n\u001b[1;32m   3279\u001b[0m                     \u001b[0mlanguage\u001b[0m\u001b[0;34m.\u001b[0m\u001b[0mgetter_of\u001b[0m\u001b[0;34m(\u001b[0m\u001b[0mbranchname\u001b[0m\u001b[0;34m)\u001b[0m\u001b[0;34m,\u001b[0m\u001b[0;34m\u001b[0m\u001b[0;34m\u001b[0m\u001b[0m\n",
      "\u001b[0;32m/opt/anaconda3/lib/python3.8/site-packages/uproot/behaviors/TBranch.py\u001b[0m in \u001b[0;36m_regularize_expression\u001b[0;34m(hasbranches, expression, keys, aliases, language, get_from_cache, arrays, expression_context, branchid_interpretation, symbol_path, is_cut, rename)\u001b[0m\n\u001b[1;32m   3168\u001b[0m     \u001b[0mis_primary\u001b[0m \u001b[0;34m=\u001b[0m \u001b[0msymbol_path\u001b[0m \u001b[0;34m==\u001b[0m \u001b[0;34m(\u001b[0m\u001b[0;34m)\u001b[0m\u001b[0;34m\u001b[0m\u001b[0;34m\u001b[0m\u001b[0m\n\u001b[1;32m   3169\u001b[0m \u001b[0;34m\u001b[0m\u001b[0m\n\u001b[0;32m-> 3170\u001b[0;31m     \u001b[0mbranch\u001b[0m \u001b[0;34m=\u001b[0m \u001b[0mhasbranches\u001b[0m\u001b[0;34m.\u001b[0m\u001b[0mget\u001b[0m\u001b[0;34m(\u001b[0m\u001b[0mexpression\u001b[0m\u001b[0;34m)\u001b[0m\u001b[0;34m\u001b[0m\u001b[0;34m\u001b[0m\u001b[0m\n\u001b[0m\u001b[1;32m   3171\u001b[0m     \u001b[0;32mif\u001b[0m \u001b[0mbranch\u001b[0m \u001b[0;32mis\u001b[0m \u001b[0;32mnot\u001b[0m \u001b[0;32mNone\u001b[0m\u001b[0;34m:\u001b[0m\u001b[0;34m\u001b[0m\u001b[0;34m\u001b[0m\u001b[0m\n\u001b[1;32m   3172\u001b[0m         _regularize_branchname(\n",
      "\u001b[0;32m/opt/anaconda3/lib/python3.8/_collections_abc.py\u001b[0m in \u001b[0;36mget\u001b[0;34m(self, key, default)\u001b[0m\n\u001b[1;32m    658\u001b[0m         \u001b[0;34m'D.get(k[,d]) -> D[k] if k in D, else d.  d defaults to None.'\u001b[0m\u001b[0;34m\u001b[0m\u001b[0;34m\u001b[0m\u001b[0m\n\u001b[1;32m    659\u001b[0m         \u001b[0;32mtry\u001b[0m\u001b[0;34m:\u001b[0m\u001b[0;34m\u001b[0m\u001b[0;34m\u001b[0m\u001b[0m\n\u001b[0;32m--> 660\u001b[0;31m             \u001b[0;32mreturn\u001b[0m \u001b[0mself\u001b[0m\u001b[0;34m[\u001b[0m\u001b[0mkey\u001b[0m\u001b[0;34m]\u001b[0m\u001b[0;34m\u001b[0m\u001b[0;34m\u001b[0m\u001b[0m\n\u001b[0m\u001b[1;32m    661\u001b[0m         \u001b[0;32mexcept\u001b[0m \u001b[0mKeyError\u001b[0m\u001b[0;34m:\u001b[0m\u001b[0;34m\u001b[0m\u001b[0;34m\u001b[0m\u001b[0m\n\u001b[1;32m    662\u001b[0m             \u001b[0;32mreturn\u001b[0m \u001b[0mdefault\u001b[0m\u001b[0;34m\u001b[0m\u001b[0;34m\u001b[0m\u001b[0m\n",
      "\u001b[0;32m/opt/anaconda3/lib/python3.8/site-packages/uproot/behaviors/TBranch.py\u001b[0m in \u001b[0;36m__getitem__\u001b[0;34m(self, where)\u001b[0m\n\u001b[1;32m   1926\u001b[0m                 raise uproot.KeyInFileError(\n\u001b[1;32m   1927\u001b[0m                     \u001b[0moriginal_where\u001b[0m\u001b[0;34m,\u001b[0m\u001b[0;34m\u001b[0m\u001b[0;34m\u001b[0m\u001b[0m\n\u001b[0;32m-> 1928\u001b[0;31m                     \u001b[0mkeys\u001b[0m\u001b[0;34m=\u001b[0m\u001b[0mself\u001b[0m\u001b[0;34m.\u001b[0m\u001b[0mkeys\u001b[0m\u001b[0;34m(\u001b[0m\u001b[0mrecursive\u001b[0m\u001b[0;34m=\u001b[0m\u001b[0mrecursive\u001b[0m\u001b[0;34m)\u001b[0m\u001b[0;34m,\u001b[0m\u001b[0;34m\u001b[0m\u001b[0;34m\u001b[0m\u001b[0m\n\u001b[0m\u001b[1;32m   1929\u001b[0m                     \u001b[0mfile_path\u001b[0m\u001b[0;34m=\u001b[0m\u001b[0mself\u001b[0m\u001b[0;34m.\u001b[0m\u001b[0m_file\u001b[0m\u001b[0;34m.\u001b[0m\u001b[0mfile_path\u001b[0m\u001b[0;34m,\u001b[0m\u001b[0;34m\u001b[0m\u001b[0;34m\u001b[0m\u001b[0m\n\u001b[1;32m   1930\u001b[0m                     \u001b[0mobject_path\u001b[0m\u001b[0;34m=\u001b[0m\u001b[0mself\u001b[0m\u001b[0;34m.\u001b[0m\u001b[0mobject_path\u001b[0m\u001b[0;34m,\u001b[0m\u001b[0;34m\u001b[0m\u001b[0;34m\u001b[0m\u001b[0m\n",
      "\u001b[0;32m/opt/anaconda3/lib/python3.8/site-packages/uproot/behaviors/TBranch.py\u001b[0m in \u001b[0;36mkeys\u001b[0;34m(self, filter_name, filter_typename, filter_branch, recursive, full_paths)\u001b[0m\n\u001b[1;32m   1446\u001b[0m         \u001b[0mReturns\u001b[0m \u001b[0mthe\u001b[0m \u001b[0mnames\u001b[0m \u001b[0mof\u001b[0m \u001b[0mthe\u001b[0m \u001b[0msubbranches\u001b[0m \u001b[0;32mas\u001b[0m \u001b[0ma\u001b[0m \u001b[0mlist\u001b[0m \u001b[0mof\u001b[0m \u001b[0mstrings\u001b[0m\u001b[0;34m.\u001b[0m\u001b[0;34m\u001b[0m\u001b[0;34m\u001b[0m\u001b[0m\n\u001b[1;32m   1447\u001b[0m         \"\"\"\n\u001b[0;32m-> 1448\u001b[0;31m         return list(\n\u001b[0m\u001b[1;32m   1449\u001b[0m             self.iterkeys(  # noqa: B301 (not a dict)\n\u001b[1;32m   1450\u001b[0m                 \u001b[0mfilter_name\u001b[0m\u001b[0;34m=\u001b[0m\u001b[0mfilter_name\u001b[0m\u001b[0;34m,\u001b[0m\u001b[0;34m\u001b[0m\u001b[0;34m\u001b[0m\u001b[0m\n",
      "\u001b[0;32m/opt/anaconda3/lib/python3.8/site-packages/uproot/behaviors/TBranch.py\u001b[0m in \u001b[0;36miterkeys\u001b[0;34m(self, filter_name, filter_typename, filter_branch, recursive, full_paths)\u001b[0m\n\u001b[1;32m   1595\u001b[0m         \u001b[0mReturns\u001b[0m \u001b[0mthe\u001b[0m \u001b[0mnames\u001b[0m \u001b[0mof\u001b[0m \u001b[0mthe\u001b[0m \u001b[0msubbranches\u001b[0m \u001b[0;32mas\u001b[0m \u001b[0man\u001b[0m \u001b[0miterator\u001b[0m \u001b[0mover\u001b[0m \u001b[0mstrings\u001b[0m\u001b[0;34m.\u001b[0m\u001b[0;34m\u001b[0m\u001b[0;34m\u001b[0m\u001b[0m\n\u001b[1;32m   1596\u001b[0m         \"\"\"\n\u001b[0;32m-> 1597\u001b[0;31m         for k, _ in self.iteritems(  # noqa: B301 (not a dict)\n\u001b[0m\u001b[1;32m   1598\u001b[0m             \u001b[0mfilter_name\u001b[0m\u001b[0;34m=\u001b[0m\u001b[0mfilter_name\u001b[0m\u001b[0;34m,\u001b[0m\u001b[0;34m\u001b[0m\u001b[0;34m\u001b[0m\u001b[0m\n\u001b[1;32m   1599\u001b[0m             \u001b[0mfilter_typename\u001b[0m\u001b[0;34m=\u001b[0m\u001b[0mfilter_typename\u001b[0m\u001b[0;34m,\u001b[0m\u001b[0;34m\u001b[0m\u001b[0;34m\u001b[0m\u001b[0m\n",
      "\u001b[0;32m/opt/anaconda3/lib/python3.8/site-packages/uproot/behaviors/TBranch.py\u001b[0m in \u001b[0;36miteritems\u001b[0;34m(self, filter_name, filter_typename, filter_branch, recursive, full_paths)\u001b[0m\n\u001b[1;32m   1693\u001b[0m \u001b[0;34m\u001b[0m\u001b[0m\n\u001b[1;32m   1694\u001b[0m             \u001b[0;32mif\u001b[0m \u001b[0mrecursive\u001b[0m\u001b[0;34m:\u001b[0m\u001b[0;34m\u001b[0m\u001b[0;34m\u001b[0m\u001b[0m\n\u001b[0;32m-> 1695\u001b[0;31m                 for k1, v in branch.iteritems(  # noqa: B301 (not a dict)\n\u001b[0m\u001b[1;32m   1696\u001b[0m                     \u001b[0mrecursive\u001b[0m\u001b[0;34m=\u001b[0m\u001b[0mrecursive\u001b[0m\u001b[0;34m,\u001b[0m\u001b[0;34m\u001b[0m\u001b[0;34m\u001b[0m\u001b[0m\n\u001b[1;32m   1697\u001b[0m                     \u001b[0mfilter_name\u001b[0m\u001b[0;34m=\u001b[0m\u001b[0mno_filter\u001b[0m\u001b[0;34m,\u001b[0m\u001b[0;34m\u001b[0m\u001b[0;34m\u001b[0m\u001b[0m\n",
      "\u001b[0;32m/opt/anaconda3/lib/python3.8/site-packages/uproot/behaviors/TBranch.py\u001b[0m in \u001b[0;36miteritems\u001b[0;34m(self, filter_name, filter_typename, filter_branch, recursive, full_paths)\u001b[0m\n\u001b[1;32m   1681\u001b[0m             )\n\u001b[1;32m   1682\u001b[0m \u001b[0;34m\u001b[0m\u001b[0m\n\u001b[0;32m-> 1683\u001b[0;31m         \u001b[0;32mfor\u001b[0m \u001b[0mbranch\u001b[0m \u001b[0;32min\u001b[0m \u001b[0mself\u001b[0m\u001b[0;34m.\u001b[0m\u001b[0mbranches\u001b[0m\u001b[0;34m:\u001b[0m\u001b[0;34m\u001b[0m\u001b[0;34m\u001b[0m\u001b[0m\n\u001b[0m\u001b[1;32m   1684\u001b[0m             if (\n\u001b[1;32m   1685\u001b[0m                 (\n",
      "\u001b[0;32m/opt/anaconda3/lib/python3.8/site-packages/uproot/behaviors/TBranch.py\u001b[0m in \u001b[0;36mbranches\u001b[0;34m(self)\u001b[0m\n\u001b[1;32m    876\u001b[0m         \u001b[0;34m:\u001b[0m\u001b[0mdoc\u001b[0m\u001b[0;34m:\u001b[0m\u001b[0;31m`\u001b[0m\u001b[0muproot\u001b[0m\u001b[0;34m.\u001b[0m\u001b[0mbehaviors\u001b[0m\u001b[0;34m.\u001b[0m\u001b[0mTBranch\u001b[0m\u001b[0;34m.\u001b[0m\u001b[0mTBranch\u001b[0m\u001b[0;31m`\u001b[0m \u001b[0;34m(\u001b[0m\u001b[0mi\u001b[0m\u001b[0;34m.\u001b[0m\u001b[0me\u001b[0m\u001b[0;34m.\u001b[0m \u001b[0;32mnot\u001b[0m \u001b[0mrecursive\u001b[0m\u001b[0;34m)\u001b[0m\u001b[0;34m.\u001b[0m\u001b[0;34m\u001b[0m\u001b[0;34m\u001b[0m\u001b[0m\n\u001b[1;32m    877\u001b[0m         \"\"\"\n\u001b[0;32m--> 878\u001b[0;31m         \u001b[0;32mreturn\u001b[0m \u001b[0mself\u001b[0m\u001b[0;34m.\u001b[0m\u001b[0mmember\u001b[0m\u001b[0;34m(\u001b[0m\u001b[0;34m\"fBranches\"\u001b[0m\u001b[0;34m)\u001b[0m\u001b[0;34m\u001b[0m\u001b[0;34m\u001b[0m\u001b[0m\n\u001b[0m\u001b[1;32m    879\u001b[0m \u001b[0;34m\u001b[0m\u001b[0m\n\u001b[1;32m    880\u001b[0m     def show(\n",
      "\u001b[0;32m/opt/anaconda3/lib/python3.8/site-packages/uproot/model.py\u001b[0m in \u001b[0;36mmember\u001b[0;34m(self, name, all, none_if_missing)\u001b[0m\n\u001b[1;32m    534\u001b[0m         \"\"\"\n\u001b[1;32m    535\u001b[0m         \u001b[0;32mif\u001b[0m \u001b[0mname\u001b[0m \u001b[0;32min\u001b[0m \u001b[0mself\u001b[0m\u001b[0;34m.\u001b[0m\u001b[0m_members\u001b[0m\u001b[0;34m:\u001b[0m\u001b[0;34m\u001b[0m\u001b[0;34m\u001b[0m\u001b[0m\n\u001b[0;32m--> 536\u001b[0;31m             \u001b[0;32mreturn\u001b[0m \u001b[0mself\u001b[0m\u001b[0;34m.\u001b[0m\u001b[0m_members\u001b[0m\u001b[0;34m[\u001b[0m\u001b[0mname\u001b[0m\u001b[0;34m]\u001b[0m\u001b[0;34m\u001b[0m\u001b[0;34m\u001b[0m\u001b[0m\n\u001b[0m\u001b[1;32m    537\u001b[0m         \u001b[0;32mif\u001b[0m \u001b[0mall\u001b[0m\u001b[0;34m:\u001b[0m\u001b[0;34m\u001b[0m\u001b[0;34m\u001b[0m\u001b[0m\n\u001b[1;32m    538\u001b[0m             \u001b[0;32mfor\u001b[0m \u001b[0mbase\u001b[0m \u001b[0;32min\u001b[0m \u001b[0mreversed\u001b[0m\u001b[0;34m(\u001b[0m\u001b[0mself\u001b[0m\u001b[0;34m.\u001b[0m\u001b[0m_bases\u001b[0m\u001b[0;34m)\u001b[0m\u001b[0;34m:\u001b[0m\u001b[0;34m\u001b[0m\u001b[0;34m\u001b[0m\u001b[0m\n",
      "\u001b[0;31mKeyboardInterrupt\u001b[0m: "
     ]
    }
   ],
   "source": [
    "# Reading all files and branches \n",
    "# UPDATE: NOT EFFICIENT\n",
    "i = 1\n",
    "for filename in filenames:\n",
    "    file = uproot.open(filename)\n",
    "    for elm in trees:\n",
    "        tree = file[elm]\n",
    "        branches = tree.keys()\n",
    "        for branch in branches:\n",
    "            try: # If we have repeated branches, only the first one will be saved\n",
    "                os.mkdir(mother_directory + '/' + elm + '/' + branch)\n",
    "            except FileExistsError:\n",
    "                pass\n",
    "            file2 = mother_directory + '/' + elm + '/' + branch + '/MasterAnaDev_Ana_Tuple' + str(i) + '.txt'\n",
    "            data = tree.arrays()[branch].to_numpy()\n",
    "            np.savetxt(file2, data, delimiter=',')\n",
    "    i += 1\n",
    "    \n",
    "# Exporting each root file data into a .txt file (for each root file)\n",
    "# UPDATE: THIS WORKS, BUT EVEN 1 ROOT FILE TAKES TOO LONG, WILL TRY WITH PARALLEL PROGRAMMING\n",
    "i = 1\n",
    "for filename in filenames: \n",
    "    file = uproot.open(filename) # There is an error here, I forgot to update the tree.\n",
    "    file2 = mother_directory + '/' + tree_name + '/' + branch + '/MasterAnaDev_Ana_Tuple' + str(i) + '.txt'\n",
    "    data = tree.arrays()[branch].to_numpy()\n",
    "    np.savetxt(file2, data, delimiter=',')\n",
    "    i += 1"
   ]
  }
 ],
 "metadata": {
  "kernelspec": {
   "display_name": "Python 3",
   "language": "python",
   "name": "python3"
  },
  "language_info": {
   "codemirror_mode": {
    "name": "ipython",
    "version": 3
   },
   "file_extension": ".py",
   "mimetype": "text/x-python",
   "name": "python",
   "nbconvert_exporter": "python",
   "pygments_lexer": "ipython3",
   "version": "3.8.8"
  }
 },
 "nbformat": 4,
 "nbformat_minor": 5
}
