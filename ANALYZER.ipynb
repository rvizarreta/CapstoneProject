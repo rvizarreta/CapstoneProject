{
 "cells": [
  {
   "cell_type": "code",
   "execution_count": 1,
   "id": "1aac62d8-1e18-4a9b-ab46-0a994a763f4a",
   "metadata": {},
   "outputs": [],
   "source": [
    "# IMPORTING UPROOT\n",
    "import uproot\n",
    "\n",
    "# IMPORTING SUPPORT PACKAGES\n",
    "import pandas as pd\n",
    "import numpy as np\n",
    "\n",
    "# IMPORTING ADDITIONAL PACKAGES\n",
    "from ipywidgets import interact, widgets\n",
    "import sys\n",
    "import glob, re\n",
    "\n",
    "# IMPORTING SUPPORT METHODS\n",
    "import PLOTTER\n",
    "import importlib # Useful to reload packages"
   ]
  },
  {
   "cell_type": "code",
   "execution_count": 2,
   "id": "1fc67e4f-7479-46b1-86c6-be15c92450bf",
   "metadata": {
    "tags": []
   },
   "outputs": [],
   "source": [
    "filenames = sorted(glob.glob(\"../ROOT FILES/SIM*\"))\n",
    "filenames.insert(0, 'Select ROOT File')"
   ]
  },
  {
   "cell_type": "code",
   "execution_count": 3,
   "id": "b23fba91-ba10-4123-b3c5-f3837452bc92",
   "metadata": {},
   "outputs": [
    {
     "data": {
      "application/vnd.jupyter.widget-view+json": {
       "model_id": "fc930038e6d94e62a8883e6659778b1e",
       "version_major": 2,
       "version_minor": 0
      },
      "text/plain": [
       "Dropdown(description='ROOT File:', layout=Layout(width='max-content'), options=('Select ROOT File', '../ROOT F…"
      ]
     },
     "metadata": {},
     "output_type": "display_data"
    }
   ],
   "source": [
    "drop_down1 = widgets.Dropdown(options=filenames,\n",
    "                                description='ROOT File:',\n",
    "                                disabled=False,\n",
    "                                layout={'width': 'max-content'})\n",
    "drop_down1"
   ]
  },
  {
   "cell_type": "markdown",
   "id": "027e4a97-05a2-42c8-afd0-40bb0325629a",
   "metadata": {},
   "source": [
    "***\n",
    "#### <font color=orange>WHAT IS INSIDE THIS FILE? TREES!</font>\n",
    "***"
   ]
  },
  {
   "cell_type": "code",
   "execution_count": 4,
   "id": "7b59df98-fd9e-45bd-ba1f-b01148dd5bea",
   "metadata": {},
   "outputs": [
    {
     "data": {
      "application/vnd.jupyter.widget-view+json": {
       "model_id": "419a7615da8e407eb57c8d16d3ffe16a",
       "version_major": 2,
       "version_minor": 0
      },
      "text/plain": [
       "Dropdown(description='🌴 Tree:', layout=Layout(width='max-content'), options=('Select Tree', 'Header;1', 'Maste…"
      ]
     },
     "metadata": {},
     "output_type": "display_data"
    }
   ],
   "source": [
    "file = uproot.open(drop_down1.value)\n",
    "trees = file.keys()\n",
    "trees.insert(0, 'Select Tree')\n",
    "drop_down2 = widgets.Dropdown(options=trees,\n",
    "                                description='🌴 Tree:',\n",
    "                                disabled=False,\n",
    "                                layout={'width': 'max-content'})\n",
    "drop_down2"
   ]
  },
  {
   "cell_type": "code",
   "execution_count": 5,
   "id": "3d47afb9-60e6-4d1d-8454-04f5fb6ad98b",
   "metadata": {},
   "outputs": [
    {
     "data": {
      "application/vnd.jupyter.widget-view+json": {
       "model_id": "8b57721bf31b40278af613f7270c1c06",
       "version_major": 2,
       "version_minor": 0
      },
      "text/plain": [
       "Text(value='', description='🔎 Search:', placeholder='Type something')"
      ]
     },
     "metadata": {},
     "output_type": "display_data"
    }
   ],
   "source": [
    "# Search inside branches list (OPTIONAL)\n",
    "search1 = widgets.Text(placeholder='Type something',\n",
    "                    description='🔎 Search:',\n",
    "                    disabled=False)\n",
    "search1"
   ]
  },
  {
   "cell_type": "code",
   "execution_count": 9,
   "id": "08d6dad1-03a7-4272-b093-2ade05effce0",
   "metadata": {
    "tags": []
   },
   "outputs": [
    {
     "data": {
      "application/vnd.jupyter.widget-view+json": {
       "model_id": "8dccb8828e9840da8fcb7720172a1b61",
       "version_major": 2,
       "version_minor": 0
      },
      "text/plain": [
       "Dropdown(description='🍂 Branch:', layout=Layout(width='max-content'), options=('proton_prong_4p', 'seco_proton…"
      ]
     },
     "metadata": {},
     "output_type": "display_data"
    }
   ],
   "source": [
    "# Let's see inside a tree\n",
    "tree = file[drop_down2.value]\n",
    "branches = tree.keys() \n",
    "branches.insert(0, 'Select Branch')\n",
    "branch_list = []\n",
    "#next((branch_list.append(item) for item in branches if search1.value in item), None)\n",
    "[branch_list.append(item) for item in branches if item.count(search1.value) != 0]\n",
    "options = ['No results'] if len(branch_list) == 0 else (branches if (search1.value == '') else branch_list)\n",
    "drop_down3 = widgets.Dropdown(options=options,\n",
    "                                description='🍂 Branch:',\n",
    "                                disabled=False,\n",
    "                                layout={'width': 'max-content'})\n",
    "drop_down3"
   ]
  },
  {
   "cell_type": "markdown",
   "id": "c82f12d6-c860-4c24-94cc-e6f6461ed5db",
   "metadata": {},
   "source": [
    "***\n",
    "#### <font color=orange>START ANALYSIS</font>\n",
    "***"
   ]
  },
  {
   "cell_type": "code",
   "execution_count": 12,
   "id": "3c4851cd-bb91-4cd3-9f48-22d002f944e0",
   "metadata": {},
   "outputs": [
    {
     "data": {
      "text/html": [
       "<div>\n",
       "<style scoped>\n",
       "    .dataframe tbody tr th:only-of-type {\n",
       "        vertical-align: middle;\n",
       "    }\n",
       "\n",
       "    .dataframe tbody tr th {\n",
       "        vertical-align: top;\n",
       "    }\n",
       "\n",
       "    .dataframe thead th {\n",
       "        text-align: right;\n",
       "    }\n",
       "</style>\n",
       "<table border=\"1\" class=\"dataframe\">\n",
       "  <thead>\n",
       "    <tr style=\"text-align: right;\">\n",
       "      <th></th>\n",
       "      <th>0</th>\n",
       "      <th>1</th>\n",
       "      <th>2</th>\n",
       "      <th>3</th>\n",
       "    </tr>\n",
       "  </thead>\n",
       "  <tbody>\n",
       "    <tr>\n",
       "      <th>0</th>\n",
       "      <td>-1.000000</td>\n",
       "      <td>-1.000000</td>\n",
       "      <td>-1.000000</td>\n",
       "      <td>-1.000000</td>\n",
       "    </tr>\n",
       "    <tr>\n",
       "      <th>1</th>\n",
       "      <td>-1.000000</td>\n",
       "      <td>-1.000000</td>\n",
       "      <td>-1.000000</td>\n",
       "      <td>-1.000000</td>\n",
       "    </tr>\n",
       "    <tr>\n",
       "      <th>2</th>\n",
       "      <td>-1.000000</td>\n",
       "      <td>-1.000000</td>\n",
       "      <td>-1.000000</td>\n",
       "      <td>-1.000000</td>\n",
       "    </tr>\n",
       "    <tr>\n",
       "      <th>3</th>\n",
       "      <td>-1.000000</td>\n",
       "      <td>-1.000000</td>\n",
       "      <td>-1.000000</td>\n",
       "      <td>-1.000000</td>\n",
       "    </tr>\n",
       "    <tr>\n",
       "      <th>4</th>\n",
       "      <td>4214.885742</td>\n",
       "      <td>62.619278</td>\n",
       "      <td>1250.158936</td>\n",
       "      <td>3913.522705</td>\n",
       "    </tr>\n",
       "    <tr>\n",
       "      <th>5</th>\n",
       "      <td>-1.000000</td>\n",
       "      <td>-1.000000</td>\n",
       "      <td>-1.000000</td>\n",
       "      <td>-1.000000</td>\n",
       "    </tr>\n",
       "    <tr>\n",
       "      <th>6</th>\n",
       "      <td>-1.000000</td>\n",
       "      <td>-1.000000</td>\n",
       "      <td>-1.000000</td>\n",
       "      <td>-1.000000</td>\n",
       "    </tr>\n",
       "    <tr>\n",
       "      <th>7</th>\n",
       "      <td>-1.000000</td>\n",
       "      <td>-1.000000</td>\n",
       "      <td>-1.000000</td>\n",
       "      <td>-1.000000</td>\n",
       "    </tr>\n",
       "    <tr>\n",
       "      <th>8</th>\n",
       "      <td>-1.000000</td>\n",
       "      <td>-1.000000</td>\n",
       "      <td>-1.000000</td>\n",
       "      <td>-1.000000</td>\n",
       "    </tr>\n",
       "    <tr>\n",
       "      <th>9</th>\n",
       "      <td>-1.000000</td>\n",
       "      <td>-1.000000</td>\n",
       "      <td>-1.000000</td>\n",
       "      <td>-1.000000</td>\n",
       "    </tr>\n",
       "    <tr>\n",
       "      <th>10</th>\n",
       "      <td>-1.000000</td>\n",
       "      <td>-1.000000</td>\n",
       "      <td>-1.000000</td>\n",
       "      <td>-1.000000</td>\n",
       "    </tr>\n",
       "    <tr>\n",
       "      <th>11</th>\n",
       "      <td>-1.000000</td>\n",
       "      <td>-1.000000</td>\n",
       "      <td>-1.000000</td>\n",
       "      <td>-1.000000</td>\n",
       "    </tr>\n",
       "  </tbody>\n",
       "</table>\n",
       "</div>"
      ],
      "text/plain": [
       "              0          1            2            3\n",
       "0     -1.000000  -1.000000    -1.000000    -1.000000\n",
       "1     -1.000000  -1.000000    -1.000000    -1.000000\n",
       "2     -1.000000  -1.000000    -1.000000    -1.000000\n",
       "3     -1.000000  -1.000000    -1.000000    -1.000000\n",
       "4   4214.885742  62.619278  1250.158936  3913.522705\n",
       "5     -1.000000  -1.000000    -1.000000    -1.000000\n",
       "6     -1.000000  -1.000000    -1.000000    -1.000000\n",
       "7     -1.000000  -1.000000    -1.000000    -1.000000\n",
       "8     -1.000000  -1.000000    -1.000000    -1.000000\n",
       "9     -1.000000  -1.000000    -1.000000    -1.000000\n",
       "10    -1.000000  -1.000000    -1.000000    -1.000000\n",
       "11    -1.000000  -1.000000    -1.000000    -1.000000"
      ]
     },
     "execution_count": 12,
     "metadata": {},
     "output_type": "execute_result"
    }
   ],
   "source": [
    "# Making the Akward Array a Numpy array and then a Pandas dataframe\n",
    "branch = drop_down3.value\n",
    "data = tree.arrays()[branch].to_numpy()\n",
    "df = pd.DataFrame(data=data)\n",
    "df"
   ]
  },
  {
   "cell_type": "code",
   "execution_count": 13,
   "id": "58ee3ee4-f24f-40c7-babc-bbdd2c4dafc6",
   "metadata": {},
   "outputs": [
    {
     "data": {
      "application/vnd.jupyter.widget-view+json": {
       "model_id": "7c794208f29f40b7b458da50bbdff52a",
       "version_major": 2,
       "version_minor": 0
      },
      "text/plain": [
       "Tab(children=(Output(), Output(), Output(), Output()), _titles={'0': '0', '1': '1', '2': '2', '3': '3'})"
      ]
     },
     "metadata": {},
     "output_type": "display_data"
    }
   ],
   "source": [
    "# PLOTTING EACH ELEMENT OF OUR BRANCH\n",
    "importlib.reload(PLOTTER)\n",
    "PLOTTER.TABS_PLOTTER(df, branch)"
   ]
  },
  {
   "cell_type": "code",
   "execution_count": null,
   "id": "dc529684-88f3-461b-af94-ca7255ebdf9c",
   "metadata": {},
   "outputs": [],
   "source": []
  }
 ],
 "metadata": {
  "kernelspec": {
   "display_name": "Python 3",
   "language": "python",
   "name": "python3"
  },
  "language_info": {
   "codemirror_mode": {
    "name": "ipython",
    "version": 3
   },
   "file_extension": ".py",
   "mimetype": "text/x-python",
   "name": "python",
   "nbconvert_exporter": "python",
   "pygments_lexer": "ipython3",
   "version": "3.8.8"
  }
 },
 "nbformat": 4,
 "nbformat_minor": 5
}
